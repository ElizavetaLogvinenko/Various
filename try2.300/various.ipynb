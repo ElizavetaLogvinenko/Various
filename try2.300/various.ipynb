{
 "cells": [
  {
   "cell_type": "code",
   "execution_count": null,
   "id": "ccc3ac9c",
   "metadata": {},
   "outputs": [],
   "source": [
    "import os\n",
    "import random\n",
    "\n",
    "os.system(\"rm output.txt\")\n",
    "\n",
    "val=[1., 8.,   1.1, 62.5, 1375., 34.4, 290.]\n",
    "#values0=[1., 68.8, 1.6, 189., 1521., 36., 545.]\n",
    "diap=[0.5, 5.0, 0.3, 10.0, 500.0, 5.0, 50.0]\n",
    "\n",
    "values = val[:]\n",
    "params=\"{:0.2f}\".format(values[0])+\",\"+\"{:0.2f}\".format(values[1])+\",\"+\"{:0.2f}\".format(values[2])+\",\"+\"{:0.2f}\".format(values[3])+\",\"+\"{:0.2f}\".format(values[4])+\",\"+\"{:0.3f}\".format(values[5])+\",\"+\"{:0.2f}\".format(values[6])\n",
    "os.system(\"./cpmfem -s -p \"+params)\n",
    "os.system(\"echo \\\"{\"+params+\"}\\\" >> params.txt\")\n",
    "os.system(\"/home/math/Executables/MathKernel/MathKernel -noprompt -run \\\"<<params2.m\\\"\")\n",
    "\n",
    "for i in range(100):\n",
    "\n",
    "\tvalues = [(v+2*d*(random.random()-0.5)) for v, d in zip(val,diap)]\n",
    "\n",
    "\tparams=\"{:0.2f}\".format(values[0])+\",\"+\"{:0.2f}\".format(values[1])+\",\"+\"{:0.2f}\".format(values[2])+\",\"+\"{:0.2f}\".format(values[3])+\",\"+\"{:0.2f}\".format(values[4])+\",\"+\"{:0.3f}\".format(values[5])+\",\"+\"{:0.2f}\".format(values[6])\n",
    "\n",
    "\tos.system(\"./cpmfem -s -p \"+params)\n",
    "\tos.system(\"echo \\\"{\"+params+\"}\\\" >> params.txt\")\n",
    "\tos.system(\"/home/math/Executables/MathKernel -noprompt -run \\\"<<params2.m\\\"\")"
   ]
  },
  {
   "cell_type": "code",
   "execution_count": null,
   "id": "810e341c",
   "metadata": {},
   "outputs": [],
   "source": []
  }
 ],
 "metadata": {
  "kernelspec": {
   "display_name": "Python 3",
   "language": "python",
   "name": "python3"
  },
  "language_info": {
   "codemirror_mode": {
    "name": "ipython",
    "version": 3
   },
   "file_extension": ".py",
   "mimetype": "text/x-python",
   "name": "python",
   "nbconvert_exporter": "python",
   "pygments_lexer": "ipython3",
   "version": "3.8.8"
  }
 },
 "nbformat": 4,
 "nbformat_minor": 5
}
