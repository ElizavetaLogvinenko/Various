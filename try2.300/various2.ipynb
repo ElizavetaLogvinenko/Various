{
 "cells": [
  {
   "cell_type": "code",
   "execution_count": null,
   "id": "c1299eb2",
   "metadata": {},
   "outputs": [],
   "source": [
    "import os\n",
    "import random\n",
    "\n",
    "os.system(\"rm output.txt\")\n",
    "\n",
    "\n",
    "val=[212.57, 0.59, 143.73, 341.07, 226.59, 0.56, 61.62, 282.18, 592.3, 436.23, 382.34, 489.53, 649.37, 41.77, 84.75, 24.18, 26.59]\n",
    "\n",
    "diap=[36.7767, 0.31356, 146.839, 153.951, 131.606]\n",
    "\n",
    "for i in range(5):\n",
    "\n",
    "    \n",
    "    values = [(v+2*d*(random.random()-0.5)) for v, d in zip(val,diap)]\n",
    "# \tvalues = val\n",
    "\n",
    "    params = \"%d,%d,%s\" % (\n",
    "        random.randint(1,100),\n",
    "        1001,\n",
    "        values\n",
    "    )\n",
    "\n",
    "    #print params\n",
    "\n",
    "    os.system(\"./cpmfem -m -f -p \"+params)\n",
    "    os.system(\"echo \\\"{\"+params+\"}\\\" >> params.txt\")\n",
    "#     os.system(\"/usr/local/bin/MathKernel -noprompt -run params_true.m\")\n",
    "#     os.system(\"math -noprompt -run \\\"<<params_true.m\\\"\")"
   ]
  },
  {
   "cell_type": "code",
   "execution_count": null,
   "id": "947e710f",
   "metadata": {},
   "outputs": [],
   "source": []
  }
 ],
 "metadata": {
  "kernelspec": {
   "display_name": "Python 3",
   "language": "python",
   "name": "python3"
  },
  "language_info": {
   "codemirror_mode": {
    "name": "ipython",
    "version": 3
   },
   "file_extension": ".py",
   "mimetype": "text/x-python",
   "name": "python",
   "nbconvert_exporter": "python",
   "pygments_lexer": "ipython3",
   "version": "3.8.8"
  }
 },
 "nbformat": 4,
 "nbformat_minor": 5
}
