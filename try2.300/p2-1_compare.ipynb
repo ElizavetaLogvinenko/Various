{
 "cells": [
  {
   "cell_type": "code",
   "execution_count": 43,
   "id": "68cd3ab5",
   "metadata": {},
   "outputs": [
    {
     "name": "stdout",
     "output_type": "stream",
     "text": [
      "CM best iter is 164\n",
      "CM best value is 546132.6846895963\n"
     ]
    },
    {
     "ename": "OSError",
     "evalue": "Failed to interpret file 'current_par_FB_41.npy' as a pickle",
     "output_type": "error",
     "traceback": [
      "\u001b[0;31m---------------------------------------------------------------------------\u001b[0m",
      "\u001b[0;31mEOFError\u001b[0m                                  Traceback (most recent call last)",
      "\u001b[0;32m~/anaconda3/lib/python3.8/site-packages/numpy/lib/npyio.py\u001b[0m in \u001b[0;36mload\u001b[0;34m(file, mmap_mode, allow_pickle, fix_imports, encoding)\u001b[0m\n\u001b[1;32m    459\u001b[0m             \u001b[0;32mtry\u001b[0m\u001b[0;34m:\u001b[0m\u001b[0;34m\u001b[0m\u001b[0;34m\u001b[0m\u001b[0m\n\u001b[0;32m--> 460\u001b[0;31m                 \u001b[0;32mreturn\u001b[0m \u001b[0mpickle\u001b[0m\u001b[0;34m.\u001b[0m\u001b[0mload\u001b[0m\u001b[0;34m(\u001b[0m\u001b[0mfid\u001b[0m\u001b[0;34m,\u001b[0m \u001b[0;34m**\u001b[0m\u001b[0mpickle_kwargs\u001b[0m\u001b[0;34m)\u001b[0m\u001b[0;34m\u001b[0m\u001b[0;34m\u001b[0m\u001b[0m\n\u001b[0m\u001b[1;32m    461\u001b[0m             \u001b[0;32mexcept\u001b[0m \u001b[0mException\u001b[0m\u001b[0;34m:\u001b[0m\u001b[0;34m\u001b[0m\u001b[0;34m\u001b[0m\u001b[0m\n",
      "\u001b[0;31mEOFError\u001b[0m: Ran out of input",
      "\nDuring handling of the above exception, another exception occurred:\n",
      "\u001b[0;31mOSError\u001b[0m                                   Traceback (most recent call last)",
      "\u001b[0;32m<ipython-input-43-ca4616b2b021>\u001b[0m in \u001b[0;36m<module>\u001b[0;34m\u001b[0m\n\u001b[1;32m     61\u001b[0m \u001b[0;34m\u001b[0m\u001b[0m\n\u001b[1;32m     62\u001b[0m \u001b[0;32mfor\u001b[0m \u001b[0mi\u001b[0m \u001b[0;32min\u001b[0m \u001b[0mrange\u001b[0m\u001b[0;34m(\u001b[0m\u001b[0miters\u001b[0m\u001b[0;34m)\u001b[0m\u001b[0;34m:\u001b[0m\u001b[0;34m\u001b[0m\u001b[0;34m\u001b[0m\u001b[0m\n\u001b[0;32m---> 63\u001b[0;31m     \u001b[0mmodel_data\u001b[0m \u001b[0;34m=\u001b[0m \u001b[0mnp\u001b[0m\u001b[0;34m.\u001b[0m\u001b[0mload\u001b[0m\u001b[0;34m(\u001b[0m\u001b[0;34m'current_par_FB_{}.npy'\u001b[0m\u001b[0;34m.\u001b[0m\u001b[0mformat\u001b[0m\u001b[0;34m(\u001b[0m\u001b[0mi\u001b[0m\u001b[0;34m)\u001b[0m\u001b[0;34m,\u001b[0m\u001b[0mallow_pickle\u001b[0m\u001b[0;34m=\u001b[0m\u001b[0;32mTrue\u001b[0m\u001b[0;34m)\u001b[0m\u001b[0;34m\u001b[0m\u001b[0;34m\u001b[0m\u001b[0m\n\u001b[0m\u001b[1;32m     64\u001b[0m \u001b[0;34m\u001b[0m\u001b[0m\n\u001b[1;32m     65\u001b[0m     \u001b[0marea_diff\u001b[0m\u001b[0;34m,\u001b[0m \u001b[0mCD_diff\u001b[0m\u001b[0;34m,\u001b[0m \u001b[0mdiam_diff\u001b[0m\u001b[0;34m,\u001b[0m \u001b[0mratio_diff\u001b[0m \u001b[0;34m=\u001b[0m \u001b[0;32mNone\u001b[0m\u001b[0;34m,\u001b[0m\u001b[0;32mNone\u001b[0m\u001b[0;34m,\u001b[0m\u001b[0;32mNone\u001b[0m\u001b[0;34m,\u001b[0m\u001b[0;32mNone\u001b[0m\u001b[0;34m\u001b[0m\u001b[0;34m\u001b[0m\u001b[0m\n",
      "\u001b[0;32m~/anaconda3/lib/python3.8/site-packages/numpy/lib/npyio.py\u001b[0m in \u001b[0;36mload\u001b[0;34m(file, mmap_mode, allow_pickle, fix_imports, encoding)\u001b[0m\n\u001b[1;32m    460\u001b[0m                 \u001b[0;32mreturn\u001b[0m \u001b[0mpickle\u001b[0m\u001b[0;34m.\u001b[0m\u001b[0mload\u001b[0m\u001b[0;34m(\u001b[0m\u001b[0mfid\u001b[0m\u001b[0;34m,\u001b[0m \u001b[0;34m**\u001b[0m\u001b[0mpickle_kwargs\u001b[0m\u001b[0;34m)\u001b[0m\u001b[0;34m\u001b[0m\u001b[0;34m\u001b[0m\u001b[0m\n\u001b[1;32m    461\u001b[0m             \u001b[0;32mexcept\u001b[0m \u001b[0mException\u001b[0m\u001b[0;34m:\u001b[0m\u001b[0;34m\u001b[0m\u001b[0;34m\u001b[0m\u001b[0m\n\u001b[0;32m--> 462\u001b[0;31m                 raise IOError(\n\u001b[0m\u001b[1;32m    463\u001b[0m                     \"Failed to interpret file %s as a pickle\" % repr(file))\n\u001b[1;32m    464\u001b[0m     \u001b[0;32mfinally\u001b[0m\u001b[0;34m:\u001b[0m\u001b[0;34m\u001b[0m\u001b[0;34m\u001b[0m\u001b[0m\n",
      "\u001b[0;31mOSError\u001b[0m: Failed to interpret file 'current_par_FB_41.npy' as a pickle"
     ]
    }
   ],
   "source": [
    "import numpy as np\n",
    "import sys\n",
    "\n",
    "best_arr = []\n",
    "exp_data = np.array([[925.9, 462.96],\n",
    "                     [848.8, 385.8],\n",
    "                     [48.6, 11.1],\n",
    "                     [0.89, 0.1]])\n",
    "diff_array = []\n",
    "sqr_sum_arr = []\n",
    "min_arr_CM = []\n",
    "\n",
    "\n",
    "# print(sys.argv[1])      \n",
    "iters = 200\n",
    "\n",
    "for i in range(iters):\n",
    "    model_data = np.load('current_par_CM_{}.npy'.format(i),allow_pickle=True)\n",
    "\n",
    "    area_diff, CD_diff, diam_diff, ratio_diff = None,None,None,None\n",
    "    \n",
    "    for j in range(len(model_data[0])):\n",
    "        if model_data[0][j] == 'area':\n",
    "            model_data_area = model_data[1][j][1]*2.5**2\n",
    "            area_diff = abs(exp_data[0][0] - model_data_area)\n",
    "        if model_data[0][j] == 'convex_area':\n",
    "            model_data_CD = model_data[1][j][1]*2.5**2\n",
    "            CD_diff = abs(exp_data[1][0] - model_data_area)\n",
    "        if model_data[0][j] == 'diam':\n",
    "            model_data_diam = model_data[1][j][1]*2.5\n",
    "            diam_diff = abs(exp_data[2][0] - model_data_area)\n",
    "        if model_data[0][j] == 'ratio':\n",
    "            model_data_ratio = model_data[1][j][1]\n",
    "            ratio_diff = abs(exp_data[3][0] - model_data_area)\n",
    "\n",
    "\n",
    "    curr_diff_array = np.array([area_diff, CD_diff, diam_diff, ratio_diff])\n",
    "    diff_array.append(curr_diff_array)\n",
    "    \n",
    "    \n",
    "    if None in curr_diff_array:\n",
    "        pass\n",
    "    else:\n",
    "        sqr_sum_arr.append(0*curr_diff_array[0]**2 + 0*curr_diff_array[1]**2 + 0*curr_diff_array[2]**2 + \n",
    "                               curr_diff_array[3]**2)\n",
    "        min_arr_CM.append(i)\n",
    "print('CM best iter is {}'.format(min_arr_CM[np.argmin(sqr_sum_arr)]))\n",
    "print('CM best value is {}'.format(min(sqr_sum_arr)))\n",
    "best_arr.append(min_arr_CM[np.argmin(sqr_sum_arr)])\n",
    "\n",
    "\n",
    "exp_data_FB = np.array([[1543, 694],\n",
    "                     [1620, 694],\n",
    "                     [71, 14],\n",
    "                     [0.87, 0.1]])\n",
    "\n",
    "diff_array = []\n",
    "sqr_sum_arr = []\n",
    "min_arr_FB = []\n",
    "\n",
    "\n",
    "for i in range(iters):\n",
    "    model_data = np.load('current_par_FB_{}.npy'.format(i),allow_pickle=True)\n",
    "\n",
    "    area_diff, CD_diff, diam_diff, ratio_diff = None,None,None,None\n",
    "    \n",
    "    for j in range(len(model_data[0])):\n",
    "        if model_data[0][j] == 'area':\n",
    "            model_data_area = model_data[1][j][1]*2.5**2\n",
    "            area_diff = abs(exp_data_FB[0][0] - model_data_area)\n",
    "        if model_data[0][j] == 'convex_area':\n",
    "            model_data_CD = model_data[1][j][1]*2.5**2\n",
    "            CD_diff = abs(exp_data_FB[1][0] - model_data_area)\n",
    "        if model_data[0][j] == 'diam':\n",
    "            model_data_diam = model_data[1][j][1]*2.5\n",
    "            diam_diff = abs(exp_data_FB[2][0] - model_data_area)\n",
    "        if model_data[0][j] == 'ratio':\n",
    "            model_data_ratio = model_data[1][j][1]\n",
    "            ratio_diff = abs(exp_data_FB[3][0] - model_data_area)\n",
    "\n",
    "\n",
    "    curr_diff_array = np.array([area_diff, CD_diff, diam_diff, ratio_diff])\n",
    "    diff_array.append(curr_diff_array)\n",
    "    \n",
    "    \n",
    "    if None in curr_diff_array:\n",
    "        pass\n",
    "    else:\n",
    "        sqr_sum_arr.append(0*curr_diff_array[0]**2 + 0*curr_diff_array[1]**2 + 0*curr_diff_array[2]**2 + \n",
    "                               curr_diff_array[3]**2)\n",
    "        min_arr_FB.append(i)\n",
    "        \n",
    "        \n",
    "print('FB best iter is {}'.format(min_arr_CM[np.argmin(sqr_sum_arr)]))\n",
    "print('FB best value is {}'.format(min(sqr_sum_arr)))\n",
    "best_arr.append(min_arr_FB[np.argmin(sqr_sum_arr)])\n",
    "\n",
    "\n",
    "np.save('best_arr.npy', best_arr)"
   ]
  },
  {
   "cell_type": "code",
   "execution_count": 31,
   "id": "f0d02568",
   "metadata": {},
   "outputs": [
    {
     "data": {
      "text/plain": [
       "array([['area', 'convex_area', 'diam', 'ratio'],\n",
       "       [array([222.21239886, 259.46138466,  15.08978097]),\n",
       "        array([1021.31514614,  413.47022135,   43.6118539 ]),\n",
       "        array([74.04293715, 32.85138224,  5.42266981]),\n",
       "        array([4.12209556, 1.58399997, 0.19231283])],\n",
       "       [array([33.36730357,  2.54247316,  2.74273516]),\n",
       "        array([54.96831731,  2.70234837,  2.72628783]),\n",
       "        array([10.4684112 ,  0.82083414,  0.97055239]),\n",
       "        array([0.28277989, 0.01519512, 0.01531085])]], dtype=object)"
      ]
     },
     "execution_count": 31,
     "metadata": {},
     "output_type": "execute_result"
    }
   ],
   "source": [
    "np.load('current_par_FB_7.npy',allow_pickle=True)\n"
   ]
  },
  {
   "cell_type": "code",
   "execution_count": 27,
   "id": "801166cb",
   "metadata": {},
   "outputs": [
    {
     "data": {
      "text/plain": [
       "array([['area', 'convex_area', 'diam', 'ratio'],\n",
       "       [array([470.46495728, 136.72282279,  27.10538188]),\n",
       "        array([1110.60189821,  215.75904597,   97.58242924]),\n",
       "        array([83.9443208 , 20.17388846,  6.38924042]),\n",
       "        array([7.60886018, 1.07454034, 0.58223677])],\n",
       "       [array([64.99902575,  4.23408626,  4.49851906]),\n",
       "        array([458.30116979,  41.01324354,  50.91478057]),\n",
       "        array([13.86138501,  1.17895319,  1.28447619]),\n",
       "        array([3.44743185, 0.29401094, 0.19253835])]], dtype=object)"
      ]
     },
     "execution_count": 27,
     "metadata": {},
     "output_type": "execute_result"
    }
   ],
   "source": [
    "np.load('current_par_CM_47.npy',allow_pickle=True)"
   ]
  },
  {
   "cell_type": "code",
   "execution_count": 58,
   "id": "f9c10040",
   "metadata": {},
   "outputs": [
    {
     "data": {
      "text/plain": [
       "array([466.60832204, 389.50832204, 410.69167796, 458.40167796])"
      ]
     },
     "execution_count": 58,
     "metadata": {},
     "output_type": "execute_result"
    }
   ],
   "source": [
    "diff_array[34]"
   ]
  },
  {
   "cell_type": "code",
   "execution_count": 59,
   "id": "25fed1e7",
   "metadata": {},
   "outputs": [],
   "source": [
    "model_data = np.load('current_par_CM_34.npy',allow_pickle=True)"
   ]
  },
  {
   "cell_type": "code",
   "execution_count": 60,
   "id": "8d82a43b",
   "metadata": {},
   "outputs": [
    {
     "data": {
      "text/plain": [
       "array([['area', 'convex_area', 'diam', 'ratio'],\n",
       "       [array([1353.9261065 ,   73.48666847,   16.64175089]),\n",
       "        array([3700.43933092,   94.75972968,   26.56539772]),\n",
       "        array([244.87579954,  13.9493867 ,   1.81113283]),\n",
       "        array([24.24817082,  1.3165888 ,  0.27173778])],\n",
       "       [array([115.51090993,   1.63108687,   1.65596028]),\n",
       "        array([291.52137353,   2.415361  ,   2.41911835]),\n",
       "        array([30.60478408,  0.25734406,  0.26972643]),\n",
       "        array([2.66780204, 0.03309405, 0.03689304])]], dtype=object)"
      ]
     },
     "execution_count": 60,
     "metadata": {},
     "output_type": "execute_result"
    }
   ],
   "source": [
    "model_data"
   ]
  },
  {
   "cell_type": "code",
   "execution_count": 61,
   "id": "221641b5",
   "metadata": {},
   "outputs": [
    {
     "data": {
      "text/plain": [
       "array([[9.2590e+02, 4.6296e+02],\n",
       "       [8.4880e+02, 3.8580e+02],\n",
       "       [4.8600e+01, 1.1100e+01],\n",
       "       [8.9000e-01, 1.0000e-01]])"
      ]
     },
     "execution_count": 61,
     "metadata": {},
     "output_type": "execute_result"
    }
   ],
   "source": [
    "exp_data"
   ]
  },
  {
   "cell_type": "code",
   "execution_count": 46,
   "id": "cc027ec3",
   "metadata": {},
   "outputs": [
    {
     "data": {
      "text/plain": [
       "3"
      ]
     },
     "execution_count": 46,
     "metadata": {},
     "output_type": "execute_result"
    }
   ],
   "source": [
    "len(model_data[0])"
   ]
  },
  {
   "cell_type": "code",
   "execution_count": 54,
   "id": "060dfbbf",
   "metadata": {},
   "outputs": [],
   "source": [
    "with open('params.txt', 'r') as params:\n",
    "    par = params.read()\n",
    "    par_list = par.split('\\n')\n",
    "for elem in par_list:\n",
    "    elem = elem.split(',')"
   ]
  },
  {
   "cell_type": "code",
   "execution_count": 56,
   "id": "45758de4",
   "metadata": {},
   "outputs": [
    {
     "data": {
      "text/plain": [
       "'{69,1001,48.13301671116862,1.0052905814237527,144.7050932696825,10.038743463194487,26.600992367709786,1.8777980948063737,75.67067978967948,12.406167866886866,411.5285963012471,318.27898742671806,0.0,0.0,0.0,0.0,0.0,40.54580161268311,83.06697718356843,13.291272660897578,13.364662317698837}'"
      ]
     },
     "execution_count": 56,
     "metadata": {},
     "output_type": "execute_result"
    }
   ],
   "source": [
    "par_list[126]"
   ]
  },
  {
   "cell_type": "code",
   "execution_count": 57,
   "id": "5c219a6c",
   "metadata": {},
   "outputs": [
    {
     "data": {
      "text/plain": [
       "250"
      ]
     },
     "execution_count": 57,
     "metadata": {},
     "output_type": "execute_result"
    }
   ],
   "source": [
    "len(par_list)"
   ]
  },
  {
   "cell_type": "code",
   "execution_count": 58,
   "id": "7b2c2b8a",
   "metadata": {},
   "outputs": [
    {
     "data": {
      "text/plain": [
       "'{97,1001,48.22330511669557,0.9500044996203817,160.95926267503515,10.288908735457344,27.47350939632413,1.1786935308184454,79.53015968199486,11.536407178212052,411.7284503644626,322.0485904958538,0.0,0.0,0.0,0.0,0.0,52.39292841614777,79.29334695815203,16.06655367083992,10.127519854343118}'"
      ]
     },
     "execution_count": 58,
     "metadata": {},
     "output_type": "execute_result"
    }
   ],
   "source": [
    "par_list[138]"
   ]
  },
  {
   "cell_type": "code",
   "execution_count": 59,
   "id": "af7439df",
   "metadata": {},
   "outputs": [
    {
     "data": {
      "text/plain": [
       "'{45,1001,48.15887848772009,0.9798078406506529,141.1535632713246,10.196108924338139,26.87581070501908,1.8776332100510433,59.22138132185448,11.62165546842588,449.207575362704,303.65460955277604,0.0,0.0,0.0,0.0,0.0,56.31755646392204,72.53324558720183,16.97864861891955,17.062502952404827}'"
      ]
     },
     "execution_count": 59,
     "metadata": {},
     "output_type": "execute_result"
    }
   ],
   "source": [
    "par_list[164]"
   ]
  },
  {
   "cell_type": "code",
   "execution_count": null,
   "id": "44a905b2",
   "metadata": {},
   "outputs": [],
   "source": []
  }
 ],
 "metadata": {
  "kernelspec": {
   "display_name": "Python 3",
   "language": "python",
   "name": "python3"
  },
  "language_info": {
   "codemirror_mode": {
    "name": "ipython",
    "version": 3
   },
   "file_extension": ".py",
   "mimetype": "text/x-python",
   "name": "python",
   "nbconvert_exporter": "python",
   "pygments_lexer": "ipython3",
   "version": "3.8.8"
  }
 },
 "nbformat": 4,
 "nbformat_minor": 5
}
